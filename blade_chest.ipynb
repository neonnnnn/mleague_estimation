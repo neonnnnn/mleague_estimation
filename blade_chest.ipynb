{
 "cells": [
  {
   "cell_type": "markdown",
   "metadata": {},
   "source": [
    "# Blade-chest innerモデル（を雑に拡張して）Mリーガーの強さと相性を推定する\n",
    "<span style=\"color:red\">**注意**</span>：このノートブックで示されるMリーガーの強さ・相性は、タイトルにもある通り、（雑に拡張した）**Blade-chest innerモデルで推定**されたものです。\n",
    "この記事で示された強さや相性は、あくまで推定したものであり、また、モデルが異なれば結果も変わる、ということにご注意ください。"
   ]
  },
  {
   "cell_type": "markdown",
   "metadata": {},
   "source": [
    "# データの読み込み"
   ]
  },
  {
   "cell_type": "code",
   "execution_count": 1,
   "metadata": {},
   "outputs": [
    {
     "name": "stdout",
     "output_type": "stream",
     "text": [
      "[['瑞原明奈' '魚谷侑未' '日向藍子' '内川幸太郎']\n",
      " ['沢崎誠' '滝沢和典' '瀬戸熊直樹' '多井隆晴']\n",
      " ['滝沢和典' '多井隆晴' '園田賢' '佐々木寿人']\n",
      " ...\n",
      " ['瀬戸熊直樹' '松本吉弘' '勝又健志' '前原雄大']\n",
      " ['白鳥翔' '内川幸太郎' '小林剛' '瀬戸熊直樹']\n",
      " ['朝倉康心' '前原雄大' '多井隆晴' '村上淳']]\n",
      "[[ 77.2  10.1 -26.  -61.3]\n",
      " [ 62.9  20.9 -21.8 -62. ]\n",
      " [ 61.9   5.8 -23.6 -44.1]\n",
      " ...\n",
      " [ 61.2   7.6 -18.2 -50.6]\n",
      " [ 60.4   3.4 -20.  -43.8]\n",
      " [ 56.   13.9 -23.1 -46.8]]\n",
      "[[ 32.2   5.1 -11.  -26.3]\n",
      " [ 17.9  15.9  -6.8 -27. ]\n",
      " [ 16.9   0.8  -8.6  -9.1]\n",
      " ...\n",
      " [ 16.2   2.6  -3.2 -15.6]\n",
      " [ 15.4  -1.6  -5.   -8.8]\n",
      " [ 11.    8.9  -8.1 -11.8]]\n",
      "プレイヤ数：30\n"
     ]
    }
   ],
   "source": [
    "import numpy as np\n",
    "from load_dataset import remove_ranking_point, add_ranking_point, load_mleague_dataset\n",
    "from blade_chest import BladeChestInner\n",
    "from sklearn.model_selection import GridSearchCV\n",
    "\n",
    "X, y = load_mleague_dataset(\"./data/\")\n",
    "y_original = remove_ranking_point(y) # 素点\n",
    "\n",
    "print(X)\n",
    "print(y)\n",
    "print(y_original)\n",
    "n_players = len(np.unique(X))\n",
    "print(f\"プレイヤ数：{n_players}\")"
   ]
  },
  {
   "cell_type": "markdown",
   "metadata": {},
   "source": [
    "## Blade-chest innerモデルの学習\n",
    "### 順位点も込み"
   ]
  },
  {
   "cell_type": "code",
   "execution_count": 2,
   "metadata": {},
   "outputs": [
    {
     "name": "stdout",
     "output_type": "stream",
     "text": [
      "強さランキング\n",
      "['堀慎吾' '日向藍子' '小林剛' '黒沢咲' '佐々木寿人' '藤崎智' '茅森早香' '多井隆晴' '萩原聖人' '和久津晶'\n",
      " '鈴木たろう' '内川幸太郎' '滝沢和典' '松本吉弘' '園田賢' '勝又健志' '前原雄大' '魚谷侑未' '朝倉康心' '近藤誠一'\n",
      " '村上淳' '瀬戸熊直樹' '沢崎誠' '石橋伸洋' '白鳥翔' '高宮まり' '二階堂亜樹' '岡田紗佳' '瑞原明奈' '丸山奏子']\n",
      "強さ\n",
      "[ 9.17212301  4.24289557  2.89589169  1.80783425  1.77572023  1.67027154\n",
      "  1.49919506  1.40084661  1.27833901  1.24378347  1.13028355  0.85872262\n",
      "  0.77469368  0.46188782  0.43453182  0.15987008 -0.31528726 -0.44386633\n",
      " -0.46694414 -0.60837206 -1.03624014 -1.25918541 -1.32649404 -2.38195204\n",
      " -2.88498098 -3.1060321  -3.9135168  -4.14336367 -4.28130286 -4.6393522 ]\n",
      "最も相性差が大きいペア：['和久津晶' '茅森早香']\n"
     ]
    }
   ],
   "source": [
    "bc = BladeChestInner(n_components=5, alpha=1e-6, beta=1e-2, max_iter=1000, verbose=False)\n",
    "bc.fit(X, y)\n",
    "strength_sorted = np.sort(bc.coef_)[::-1]\n",
    "players_sorted = bc.enc_.inverse_transform(np.argsort(bc.coef_)[::-1])\n",
    "\n",
    "print(\"強さランキング\")\n",
    "print(players_sorted)\n",
    "print(\"強さ\")\n",
    "print(strength_sorted)\n",
    "\n",
    "comparison_matrix = np.dot(bc.V_, bc.U_.T) - np.dot(bc.U_, bc.V_.T)\n",
    "indices = np.argmax(comparison_matrix)\n",
    "player1 = indices // n_players\n",
    "player2 = indices % n_players\n",
    "print(f\"最も相性差が大きいペア：{bc.enc_.inverse_transform([player1, player2])}\")"
   ]
  },
  {
   "cell_type": "markdown",
   "metadata": {},
   "source": [
    "### 素点で推定"
   ]
  },
  {
   "cell_type": "code",
   "execution_count": 3,
   "metadata": {},
   "outputs": [
    {
     "name": "stdout",
     "output_type": "stream",
     "text": [
      "強さランキング\n",
      "['堀慎吾' '多井隆晴' '内川幸太郎' '小林剛' '園田賢' '丸山奏子' '滝沢和典' '黒沢咲' '鈴木たろう' '松本吉弘'\n",
      " '佐々木寿人' '萩原聖人' '日向藍子' '魚谷侑未' '近藤誠一' '和久津晶' '藤崎智' '茅森早香' '勝又健志' '高宮まり'\n",
      " '瀬戸熊直樹' '瑞原明奈' '朝倉康心' '前原雄大' '石橋伸洋' '二階堂亜樹' '沢崎誠' '村上淳' '白鳥翔' '岡田紗佳']\n",
      "強さ\n",
      "[ 2.70856904  1.53950268  1.40339251  1.28347605  1.28308986  0.74333526\n",
      "  0.69801791  0.68291046  0.59108214  0.45886158  0.32696652  0.22231166\n",
      "  0.20641158  0.15954446  0.14631176  0.12337122 -0.06824308 -0.07144087\n",
      " -0.18800129 -0.33269427 -0.42498483 -0.53419567 -0.72436916 -0.95078518\n",
      " -1.16588839 -1.32428748 -1.34229675 -1.36447319 -1.78035465 -2.3051399 ]\n",
      "最も相性差が大きいペア：['堀慎吾' '沢崎誠']\n"
     ]
    }
   ],
   "source": [
    "bc = BladeChestInner(n_components=5, alpha=1e-6, beta=1e-2, max_iter=1000, verbose=False)\n",
    "bc.fit(X, y_original)\n",
    "strength_sorted = np.sort(bc.coef_)[::-1]\n",
    "players_sorted = bc.enc_.inverse_transform(np.argsort(bc.coef_)[::-1])\n",
    "\n",
    "print(\"強さランキング\")\n",
    "print(players_sorted)\n",
    "print(\"強さ\")\n",
    "print(strength_sorted)\n",
    "\n",
    "comparison_matrix = np.dot(bc.V_, bc.U_.T) - np.dot(bc.U_, bc.V_.T)\n",
    "indices = np.argmax(comparison_matrix)\n",
    "player1 = indices // n_players\n",
    "player2 = indices % n_players\n",
    "print(f\"最も相性差が大きいペア：{bc.enc_.inverse_transform([player1, player2])}\")"
   ]
  },
  {
   "cell_type": "code",
   "execution_count": null,
   "metadata": {},
   "outputs": [],
   "source": []
  }
 ],
 "metadata": {
  "kernelspec": {
   "display_name": "Python 3",
   "language": "python",
   "name": "python3"
  },
  "language_info": {
   "codemirror_mode": {
    "name": "ipython",
    "version": 3
   },
   "file_extension": ".py",
   "mimetype": "text/x-python",
   "name": "python",
   "nbconvert_exporter": "python",
   "pygments_lexer": "ipython3",
   "version": "3.7.9"
  }
 },
 "nbformat": 4,
 "nbformat_minor": 4
}
