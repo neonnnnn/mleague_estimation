{
 "cells": [
  {
   "cell_type": "markdown",
   "metadata": {},
   "source": [
    "# 雑に拡張したBradley-TerryモデルとSinkhorn距離に基づいた微分可能なソート・ランキングを組合せてMリーガーの強さを推定する\n",
    "<span style=\"color:red\">**注意**</span>：このノートブックで示されるMリーガーの強さは、タイトルにもある通り、（雑に拡張した）**Bradley-Terryモデル with Sinkhorn距離に基づいた微分可能なソート・ランキングで推定**されたものです。\n",
    "この記事で示された強さは、あくまで推定したものであり、また、モデルが異なれば結果も変わる、ということにご注意ください。"
   ]
  },
  {
   "cell_type": "code",
   "execution_count": 1,
   "metadata": {},
   "outputs": [
    {
     "name": "stdout",
     "output_type": "stream",
     "text": [
      "cuda:0\n"
     ]
    }
   ],
   "source": [
    "import torch\n",
    "from torch.optim import Adam, Adagrad\n",
    "import numpy as np\n",
    "from models_pytorch import BT, SinkhornRankSort, SinkhornBT\n",
    "from load_dataset import remove_ranking_point, add_ranking_point, load_mleague_dataset\n",
    "from sklearn.preprocessing import LabelEncoder, OneHotEncoder\n",
    "device = torch.device(\"cuda:0\" if torch.cuda.is_available() else \"cpu\")\n",
    "print(device)"
   ]
  },
  {
   "cell_type": "code",
   "execution_count": 2,
   "metadata": {},
   "outputs": [
    {
     "name": "stdout",
     "output_type": "stream",
     "text": [
      "[['瑞原明奈' '魚谷侑未' '日向藍子' '内川幸太郎']\n",
      " ['沢崎誠' '滝沢和典' '瀬戸熊直樹' '多井隆晴']\n",
      " ['滝沢和典' '多井隆晴' '園田賢' '佐々木寿人']\n",
      " ...\n",
      " ['瀬戸熊直樹' '松本吉弘' '勝又健志' '前原雄大']\n",
      " ['白鳥翔' '内川幸太郎' '小林剛' '瀬戸熊直樹']\n",
      " ['朝倉康心' '前原雄大' '多井隆晴' '村上淳']]\n",
      "[[ 77.2  10.1 -26.  -61.3]\n",
      " [ 62.9  20.9 -21.8 -62. ]\n",
      " [ 61.9   5.8 -23.6 -44.1]\n",
      " ...\n",
      " [ 61.2   7.6 -18.2 -50.6]\n",
      " [ 60.4   3.4 -20.  -43.8]\n",
      " [ 56.   13.9 -23.1 -46.8]]\n",
      "[[ 32.2   5.1 -11.  -26.3]\n",
      " [ 17.9  15.9  -6.8 -27. ]\n",
      " [ 16.9   0.8  -8.6  -9.1]\n",
      " ...\n",
      " [ 16.2   2.6  -3.2 -15.6]\n",
      " [ 15.4  -1.6  -5.   -8.8]\n",
      " [ 11.    8.9  -8.1 -11.8]]\n"
     ]
    }
   ],
   "source": [
    "X, y = load_mleague_dataset(\"./data/\")\n",
    "y_original = remove_ranking_point(y)\n",
    "\n",
    "print(X)\n",
    "print(y)\n",
    "players_all = np.array(np.unique(X))\n",
    "n_players = len(players_all)\n",
    "print(y_original)"
   ]
  },
  {
   "cell_type": "code",
   "execution_count": 3,
   "metadata": {},
   "outputs": [],
   "source": [
    "enc = LabelEncoder()\n",
    "enc.fit(players_all)\n",
    "X_enc = enc.transform(X.ravel()).reshape(-1, 4)\n",
    "dataset = torch.utils.data.TensorDataset(\n",
    "    torch.tensor(X_enc), torch.tensor(y)\n",
    ")\n",
    "loader = torch.utils.data.DataLoader(dataset, batch_size=len(X)//10, shuffle=True)\n"
   ]
  },
  {
   "cell_type": "code",
   "execution_count": 4,
   "metadata": {},
   "outputs": [
    {
     "name": "stdout",
     "output_type": "stream",
     "text": [
      "Epoch: 1 Loss: 1394.5962815285204\n",
      "Epoch: 11 Loss: 1384.0828202842795\n",
      "Epoch: 21 Loss: 1377.3745730760188\n",
      "Epoch: 31 Loss: 1368.4159605309364\n",
      "Epoch: 41 Loss: 1366.8600612366138\n",
      "Epoch: 51 Loss: 1365.9220658464917\n",
      "Epoch: 61 Loss: 1365.2145007797747\n",
      "Epoch: 71 Loss: 1364.340403904369\n",
      "Epoch: 81 Loss: 1360.4136176913385\n",
      "Epoch: 91 Loss: 1358.4979897898168\n",
      "Epoch: 101 Loss: 1357.5646451395116\n",
      "Epoch: 111 Loss: 1357.00797301735\n",
      "Epoch: 121 Loss: 1354.9386893206288\n",
      "Epoch: 131 Loss: 1352.7064960552314\n",
      "Epoch: 141 Loss: 1353.0249972100855\n",
      "Epoch: 151 Loss: 1351.1065066809317\n",
      "Epoch: 161 Loss: 1350.3986372107981\n",
      "Epoch: 171 Loss: 1350.1797276714149\n",
      "Epoch: 181 Loss: 1349.5230332304243\n",
      "Epoch: 191 Loss: 1349.0200114393222\n",
      "Epoch: 201 Loss: 1349.0227681416336\n",
      "Epoch: 211 Loss: 1348.3698538619133\n",
      "Epoch: 221 Loss: 1347.743069229665\n",
      "Epoch: 231 Loss: 1348.9166965281752\n",
      "Epoch: 241 Loss: 1348.1166496062492\n",
      "Epoch: 251 Loss: 1347.7312333102561\n",
      "Epoch: 261 Loss: 1347.397163495268\n",
      "Epoch: 271 Loss: 1347.1680812010613\n",
      "Epoch: 281 Loss: 1346.4764115679127\n",
      "Epoch: 291 Loss: 1344.5400145783583\n",
      "Epoch: 301 Loss: 1343.518757063569\n",
      "Epoch: 311 Loss: 1343.2761927265872\n",
      "Epoch: 321 Loss: 1343.142369090513\n",
      "Epoch: 331 Loss: 1343.0237303158406\n",
      "Epoch: 341 Loss: 1342.6693032828657\n",
      "Epoch: 351 Loss: 1342.4358078598382\n",
      "Epoch: 361 Loss: 1342.3854420168545\n",
      "Epoch: 371 Loss: 1341.976877936379\n",
      "Epoch: 381 Loss: 1341.718548173218\n",
      "Epoch: 391 Loss: 1341.5024961361878\n",
      "Epoch: 401 Loss: 1341.3483560445497\n",
      "Epoch: 411 Loss: 1341.0306913215131\n",
      "Epoch: 421 Loss: 1341.0146957371458\n",
      "Epoch: 431 Loss: 1340.4985502811214\n",
      "Epoch: 441 Loss: 1340.188020975654\n",
      "Epoch: 451 Loss: 1340.0077486379494\n",
      "Epoch: 461 Loss: 1339.7329712509286\n",
      "Epoch: 471 Loss: 1339.6193141708918\n",
      "Epoch: 481 Loss: 1339.3225954529594\n",
      "Epoch: 491 Loss: 1339.0688024921506\n",
      "Epoch: 501 Loss: 1338.6184069271326\n",
      "Epoch: 511 Loss: 1338.6911675490976\n",
      "Epoch: 521 Loss: 1338.3719761191473\n",
      "Epoch: 531 Loss: 1338.0811121834492\n",
      "Epoch: 541 Loss: 1337.7725354952913\n",
      "Epoch: 551 Loss: 1337.5443611825074\n",
      "Epoch: 561 Loss: 1337.2430471534688\n",
      "Epoch: 571 Loss: 1337.0607751758946\n",
      "Epoch: 581 Loss: 1336.661835091038\n",
      "Epoch: 591 Loss: 1336.3911900579906\n",
      "Epoch: 601 Loss: 1336.5501287047473\n",
      "Epoch: 611 Loss: 1336.1957551764908\n",
      "Epoch: 621 Loss: 1334.5774118707757\n",
      "Epoch: 631 Loss: 1334.7268255593785\n",
      "Epoch: 641 Loss: 1334.2152123216954\n",
      "Epoch: 651 Loss: 1335.8586457741758\n",
      "Epoch: 661 Loss: 1335.6105219407293\n",
      "Epoch: 671 Loss: 1335.9340595539993\n",
      "Epoch: 681 Loss: 1335.3537493302667\n",
      "Epoch: 691 Loss: 1335.1065437113787\n",
      "Epoch: 701 Loss: 1334.9510491293265\n",
      "Epoch: 711 Loss: 1333.9475861335509\n",
      "Epoch: 721 Loss: 1334.1935938474353\n",
      "Epoch: 731 Loss: 1333.5386070675781\n",
      "Epoch: 741 Loss: 1333.4298895260138\n",
      "Epoch: 751 Loss: 1333.6249263043671\n",
      "Epoch: 761 Loss: 1333.484638641628\n",
      "Epoch: 771 Loss: 1333.0228911866295\n",
      "Epoch: 781 Loss: 1332.9215251565104\n",
      "Epoch: 791 Loss: 1332.5302891570086\n",
      "Epoch: 801 Loss: 1332.7119470393204\n",
      "Epoch: 811 Loss: 1332.3354833190037\n",
      "Epoch: 821 Loss: 1332.104467299413\n",
      "Epoch: 831 Loss: 1332.7404017141166\n",
      "Epoch: 841 Loss: 1332.055041278148\n",
      "Epoch: 851 Loss: 1331.750524404514\n",
      "Epoch: 861 Loss: 1331.4531282498722\n",
      "Epoch: 871 Loss: 1331.1661001665966\n",
      "Epoch: 881 Loss: 1331.0306959985774\n",
      "Epoch: 891 Loss: 1330.9306104768605\n",
      "Epoch: 901 Loss: 1330.7242869184252\n",
      "Epoch: 911 Loss: 1330.586014598534\n",
      "Epoch: 921 Loss: 1330.3241090373904\n",
      "Epoch: 931 Loss: 1330.4517761029597\n",
      "Epoch: 941 Loss: 1330.5638579330878\n",
      "Epoch: 951 Loss: 1330.0861842821082\n",
      "Epoch: 961 Loss: 1329.9522794473826\n",
      "Epoch: 971 Loss: 1329.8615174256581\n",
      "Epoch: 981 Loss: 1329.3984332728955\n",
      "Epoch: 991 Loss: 1329.0471572427896\n"
     ]
    }
   ],
   "source": [
    "bt = SinkhornBT(n_players, tau=0.01, max_iter=1000, eps=1e-3, tol=1e-2).to(device)\n",
    "optim = Adam(bt.parameters())\n",
    "\n",
    "for it in range(1000):\n",
    "    running_loss = 0.0\n",
    "    for X_batch, y_batch in loader:\n",
    "        X_batch, y_batch = X_batch.to(device), y_batch.to(device)\n",
    "        optim.zero_grad()\n",
    "        y_pred = bt(X_batch)\n",
    "        loss = 0.5 * torch.mean((y_batch - y_pred)**2)\n",
    "        loss.backward()\n",
    "        optim.step()\n",
    "        running_loss += loss.item()\n",
    "    if it % 10 == 0:\n",
    "        print(f\"Epoch: {it+1} Loss: {running_loss / len(loader)}\")"
   ]
  },
  {
   "cell_type": "code",
   "execution_count": 5,
   "metadata": {},
   "outputs": [
    {
     "name": "stdout",
     "output_type": "stream",
     "text": [
      "['堀慎吾' '近藤誠一' '滝沢和典' '内川幸太郎' '白鳥翔' '萩原聖人' '瀬戸熊直樹' '岡田紗佳' '勝又健志' '瑞原明奈'\n",
      " '和久津晶' '園田賢' '村上淳' '沢崎誠' '石橋伸洋' '佐々木寿人' '多井隆晴' '朝倉康心' '丸山奏子' '日向藍子'\n",
      " '鈴木たろう' '二階堂亜樹' '小林剛' '前原雄大' '黒沢咲' '魚谷侑未' '高宮まり' '松本吉弘' '藤崎智' '茅森早香']\n",
      "[ 0.52791023  0.5208337   0.49293813  0.39422238  0.34028548  0.3053928\n",
      "  0.2731232   0.26289013  0.22842777  0.12351097  0.11227185  0.11184385\n",
      "  0.10656966  0.04033573  0.03492783  0.01533102 -0.02028644 -0.08949254\n",
      " -0.29182988 -0.36775672 -0.39023915 -0.42291704 -0.42621672 -0.62470376\n",
      " -0.686216   -0.76266867 -0.84881216 -0.94601184 -0.9569087  -1.5796827 ]\n"
     ]
    }
   ],
   "source": [
    "coef_ = bt.bt.embed.weight.detach().cpu().numpy().ravel()\n",
    "strength_sorted = np.sort(coef_)[::-1]\n",
    "players_sorted = enc.inverse_transform(np.argsort(coef_)[::-1])\n",
    "print(players_sorted)\n",
    "print(strength_sorted)"
   ]
  }
 ],
 "metadata": {
  "kernelspec": {
   "display_name": "Python 3",
   "language": "python",
   "name": "python3"
  },
  "language_info": {
   "codemirror_mode": {
    "name": "ipython",
    "version": 3
   },
   "file_extension": ".py",
   "mimetype": "text/x-python",
   "name": "python",
   "nbconvert_exporter": "python",
   "pygments_lexer": "ipython3",
   "version": "3.7.9"
  }
 },
 "nbformat": 4,
 "nbformat_minor": 4
}
